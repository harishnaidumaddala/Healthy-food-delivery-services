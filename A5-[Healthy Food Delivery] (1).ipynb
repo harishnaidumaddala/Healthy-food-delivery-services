{
  "metadata": {
    "language_info": {
      "codemirror_mode": {
        "name": "python",
        "version": 3
      },
      "file_extension": ".py",
      "mimetype": "text/x-python",
      "name": "python",
      "nbconvert_exporter": "python",
      "pygments_lexer": "ipython3",
      "version": "3.8"
    },
    "kernelspec": {
      "name": "python",
      "display_name": "Python (Pyodide)",
      "language": "python"
    }
  },
  "nbformat_minor": 4,
  "nbformat": 4,
  "cells": [
    {
      "cell_type": "code",
      "source": "# python DVP AS4 From Team 5 - Runtime Error",
      "metadata": {
        "trusted": true
      },
      "execution_count": null,
      "outputs": []
    },
    {
      "cell_type": "code",
      "source": "# I'm using the Healthy Food Delivery use case files \n# Students Harish Naidu Maddala 999903251\n# Srinadh Kocherla 999903153",
      "metadata": {
        "trusted": true
      },
      "execution_count": null,
      "outputs": []
    },
    {
      "cell_type": "code",
      "source": "import piplite\nawait piplite.install(\"openpyxl\")\nawait piplite.install(\"seaborn\")",
      "metadata": {
        "trusted": true
      },
      "execution_count": null,
      "outputs": []
    },
    {
      "cell_type": "code",
      "source": "import pandas as pd\nimport numpy as np\nimport seaborn as sns\nimport matplotlib.pyplot as plt",
      "metadata": {
        "trusted": true
      },
      "execution_count": null,
      "outputs": []
    },
    {
      "cell_type": "code",
      "source": "# Load all of your different Module Use Case dataset files.\nM1 = pd.ExcelFile('5 - Healthy Food Delivery - M1 - Initial dataset.xlsx')\nM2 = pd.ExcelFile('5 - Healthy Food Delivery - M2 - Change Over Time.xlsx')\nM3 = pd.ExcelFile('5 - Healthy Food Delivery - M3 - Data Composition.xlsx')\nM4 = pd.ExcelFile('5 - Healthy Food Delivery - M4 - Data Distributions.xlsx')\nM5 = pd.ExcelFile('5 - Healthy Food Delivery - M5 - Group Comparisons.xlsx')",
      "metadata": {
        "trusted": true
      },
      "execution_count": null,
      "outputs": []
    },
    {
      "cell_type": "code",
      "source": "# Get a list of the sheet names in each M#_Data by running just the line of whichever one you want to see (select to highight it and click \"Run\" and select \"Run Selected Text or Current Line in Console\", which will open a new section on the bottom where you can paste in your line and hit shift enter to run it and it will show the output down there for you to work with).\nM1.sheet_names\nM2.sheet_names\nM3.sheet_names\nM4.sheet_names\nM5.sheet_names",
      "metadata": {
        "trusted": true
      },
      "execution_count": null,
      "outputs": []
    },
    {
      "cell_type": "code",
      "source": "# Save sheet one to a variable for each M#_Data by running just the line of whichever one you want to see (select to highight it and click \"Run\" and select \"Run Selected Text or Current Line in Console\".\nM1_Data = pd.read_excel(M1, '5 - Healthy Food Delivery - M1')\nM2_Data = pd.read_excel(M2, '5 - Healthy Food Delivery - M2')\nM3_Data = pd.read_excel(M3, '5 - Healthy Food Delivery - M3')\nM4_Data = pd.read_excel(M4, '5 - Healthy Food Delivery - M4')\nM5_Data = pd.read_excel(M5, '5 - Healthy Food Delivery - M5')",
      "metadata": {
        "trusted": true
      },
      "execution_count": null,
      "outputs": []
    },
    {
      "cell_type": "code",
      "source": "# Look at M#_Data for each by running just the line of whichever one you want to see (select to highight it and click \"Run\" and select \"Run Selected Text or Current Line in Console\".\nM1_Data\nM2_Data\nM3_Data\nM4_Data\nM5_Data",
      "metadata": {
        "trusted": true
      },
      "execution_count": null,
      "outputs": []
    },
    {
      "cell_type": "code",
      "source": "# Save sheet two to a variable for each M#_Data by running just the line of whichever one you want to see (select to highight it and click \"Run\" and select \"Run Selected Text or Current Line in Console\".\nM1_DD = pd.read_excel(M1, 'Data Dictionary')\nM2_DD = pd.read_excel(M2, 'Data Dictionary')\nM3_DD = pd.read_excel(M3, 'Data Dictionary')\nM4_DD = pd.read_excel(M4, 'Data Dictionary')\nM5_DD = pd.read_excel(M5, 'Data Dictionary')",
      "metadata": {
        "trusted": true
      },
      "execution_count": null,
      "outputs": []
    },
    {
      "cell_type": "code",
      "source": "# Look at M#_DD for each by running just the line of whichever one you want to see (select to highight it and click \"Run\" and select \"Run Selected Text or Current Line in Console\".\nM1_DD\nM2_DD\nM3_DD\nM4_DD\nM5_DD",
      "metadata": {
        "trusted": true
      },
      "execution_count": null,
      "outputs": []
    },
    {
      "cell_type": "code",
      "source": "# Show a list of the response options and their codes for each variable in each of your M#_DDs (select to highight it and click \"Run\" and select \"Run Selected Text or Current Line in Console\". You can ignore the \"nan\" because it just means that that was an empty cell in the original excel sheet.\n# Why do this? Because it gives you a list of the labels that correspond to each of the numeric data in your dataset.\n# Why else do this? Because it gives you a list of the actual variable titles (question titles) that corresponds to each column code (Q#) in your dataset so that you can know the context of the data each column actually contains/represents/corresponds to.\nM1_DD.values.tolist() # one way to do it\nM1_DD.loc[:, :].values.tolist() # another way to do it\nnp.array(M1_DD) # another way to do it\n#\n#\nM2_DD.values.tolist() # one way to do it\nM2_DD.loc[:, :].values.tolist() # another way to do it\nnp.array(M2_DD) # another way to do it\n#\n#\nM3_DD.values.tolist() # one way to do it\nM3_DD.loc[:, :].values.tolist() # another way to do it\nnp.array(M3_DD) # another way to do it\n#\n#\nM4_DD.values.tolist() # one way to do it\nM4_DD.loc[:, :].values.tolist() # another way to do it\nnp.array(M4_DD) # another way to do it\n#\n#\nM5_DD.values.tolist() # one way to do it\nM5_DD.loc[:, :].values.tolist() # another way to do it\nnp.array(M5_DD) # another way to do it",
      "metadata": {
        "trusted": true
      },
      "execution_count": null,
      "outputs": []
    },
    {
      "cell_type": "code",
      "source": "# Convert each of your M# DDs to useable data frames by trasposing them wherein you flip the rows to columns (select to highight it and click \"Run\" and select \"Run Selected Text or Current Line in Console\".\nM1_DD_T = M1_DD.T\nM2_DD_T = M2_DD.T\nM3_DD_T = M3_DD.T\nM4_DD_T = M4_DD.T\nM5_DD_T = M5_DD.T",
      "metadata": {
        "trusted": true
      },
      "execution_count": null,
      "outputs": []
    },
    {
      "cell_type": "code",
      "source": "# Look at each of your converted/transposed M# DD data frames to see their contents (select to highight it and click \"Run\" and select \"Run Selected Text or Current Line in Console\".\nM1_DD_T\nM2_DD_T\nM3_DD_T\nM4_DD_T\nM5_DD_T",
      "metadata": {
        "trusted": true
      },
      "execution_count": null,
      "outputs": []
    },
    {
      "cell_type": "code",
      "source": "# disable cell truncation so that you can read the entire question of each variable in your data set.\npd.set_option('display.max_colwidth', None)\nM5_DD_T",
      "metadata": {
        "trusted": true
      },
      "execution_count": null,
      "outputs": []
    },
    {
      "cell_type": "code",
      "source": "# Although it's not necessary to merge your use case datasets, for those that like to do it:\n# Merge all of your M# datasets on the common ID column and then look at it. The merge() function can only merge two at a time, so merge in pairs and look at each in between merges to see it appears okay. (Select to highight it and click \"Run\" and select \"Run Selected Text or Current Line in Console\".\nM1_M2 = pd.merge(M1_Data, M2_Data, on=\"ID\")\nprint(M1_M2)\nM1_M2_M3 = pd.merge(M1_M2, M3_Data, on=\"ID\")\nprint(M1_M2_M3)\nM1_M2_M3_M4 = pd.merge(M1_M2_M3, M4_Data, on=\"ID\")\nprint(M1_M2_M3_M4)\nM1_M2_M3_M4_M5 = pd.merge(M1_M2_M3_M4, M5_Data, on=\"ID\")\nprint(M1_M2_M3_M4_M5)",
      "metadata": {
        "trusted": true
      },
      "execution_count": null,
      "outputs": []
    },
    {
      "cell_type": "code",
      "source": "# Make a copy so don't mess up the original. That way, you can mess around with the copy and not care if you make a mistake.\nM1_Data_copy = M1_Data.copy()\nM2_Data_copy = M2_Data.copy()\nM3_Data_copy = M3_Data.copy()\nM4_Data_copy = M4_Data.copy()\nM5_Data_copy = M5_Data.copy()",
      "metadata": {
        "trusted": true
      },
      "execution_count": null,
      "outputs": []
    },
    {
      "cell_type": "code",
      "source": "# Look at the M# data sheet copies and their DD_Ts together each in turn to see what content you have to work with.\nM1_Data_copy\nM1_DD_T\nM2_Data_copy\nM2_DD_T\nM3_Data_copy\nM3_DD_T\nM4_Data_copy\nM4_DD_T\nM5_Data_copy\nM5_DD_T",
      "metadata": {
        "trusted": true
      },
      "execution_count": null,
      "outputs": []
    },
    {
      "cell_type": "code",
      "source": "M5_Data.head()",
      "metadata": {
        "trusted": true
      },
      "execution_count": null,
      "outputs": []
    },
    {
      "cell_type": "code",
      "source": "M5_DD.values.tolist() # one way to do it\nM5_DD.loc[:, :].values.tolist() # another way to do it\nnp.array(M5_DD) # another way to do it",
      "metadata": {
        "trusted": true
      },
      "execution_count": null,
      "outputs": []
    },
    {
      "cell_type": "code",
      "source": "# make a new dataframe with the variables that you want to visualize. Here i am choosing the income variable and all of the M5 variables. but i'll simply pull them all from the merged dataset that i made since i did it.\nsomething= pd.DataFrame(M1_M2_M3_M4_M5, columns=['Q6', 'Q16', 'Q17', 'Q18', 'Q19'])\nsomething",
      "metadata": {
        "trusted": true
      },
      "execution_count": null,
      "outputs": []
    },
    {
      "cell_type": "code",
      "source": "# now we have to get all of the frequency counts of these variables.\n# another way to make a frequency table that what i showed you before.\npivot = something.pivot_table(index =['Q6'],\n                       values =['Q16', 'Q17', 'Q18', 'Q19'],\n                       aggfunc ='mean').astype(int) # this int part will remove the decimals\npivot # look at it\nresponse_by_income = pivot # then give it a better name\nresponse_by_income # and look at it again",
      "metadata": {
        "trusted": true
      },
      "execution_count": null,
      "outputs": []
    },
    {
      "cell_type": "code",
      "source": "M1_DD_T \nQ6_codes = [1, 2, 3, 4, 5]\nQ6_labels = ['$499 or less','$500 to $999','$1,000 to $1,499','$1,500 to $1,999', '$2,000 or more']",
      "metadata": {
        "trusted": true
      },
      "execution_count": null,
      "outputs": []
    },
    {
      "cell_type": "code",
      "source": "M5_DD_T",
      "metadata": {
        "trusted": true
      },
      "execution_count": null,
      "outputs": []
    },
    {
      "cell_type": "code",
      "source": "    # stacked bar chart for showing how the target customers responded to Q16, Q17, Q18, and Q19 of M5 which is all about purchasing behavior at Food & Beverage Stands.\n    import matplotlib.font_manager as font_manager # so we can create a set of customized fonts for our legend (see \"font\" below).\n    plt.rcParams[\"figure.autolayout\"] = True\n    xticks = [0, 1, 2, 3, 4]\n    Q6_labels = [\"$499 or less\",\"$500 ~to~ $999\",\"$1,000 ~to~ $1,499\",\"$1,500 ~to~ $1,999\",\"$2,000 or more\"] # adding the ~ where i need white space.\n    yticks = [0, 1, 2, 3, 4, 5, 6, 7, 8]\n    behavior_labels = [\"I will not go\", \"I will not buy\", \"$1.99 or less\", \"$2 ~to~ $3.99\", \"$4 ~to~ $5.99\", \"$6 ~to~ $7.99\", \"$8 ~to~ $9.99\", \"$10 ~to~ $11.99\", \"$12 or more\"]\n    ax=response_by_income.plot.bar(stacked=True)\n    # add data labels as percentages of the total for better decision making capability\n    for container in ax.containers:\n        ax.bar_label(container, fmt='%.0f%%', label_type='center')\n    plt.title(label=\"The Purchasing Behavior of Target Customers of\\n Healthy Food Delivery Services(HFDS) by their Income Level\", fontsize=14)\n    plt.xlabel(\"\")\n    plt.ylabel(\"\")\n    ax.set_xticks(xticks)\n    ax.set_xticklabels(Q6_labels, rotation=15)\n    ax.set_yticks(yticks)\n    ax.set_yticklabels(behavior_labels)\n    plt.xticks(xticks, Q6_labels)\n    plt.yticks(yticks, behavior_labels)\n    font = font_manager.FontProperties(family='Comic Sans MS',\n                                       weight='bold',\n                                       style='normal', size=8)\n\n    plt.legend([\"Per item H&FDS\", \"Per order HFDS\", \"Delivery charge by percentage per order at HFDS\", \"Delivery charge by dollars per order at HFDS\"], loc='upper left', framealpha=0.3, prop=font)\n    # Teams, experiment with custimizing your chart (colors, fonts, etc.)\n    plt.savefig(\"A5-[Healthy Food Delivery]-Stacked-Python.png\")\n    plt.show()",
      "metadata": {
        "trusted": true
      },
      "execution_count": null,
      "outputs": []
    },
    {
      "cell_type": "code",
      "source": "import seaborn as sns\nimport matplotlib.pyplot as plt\n# Assuming 'response_by_income' is your DataFrame\nlist_labels = [\"Per item\\nH&FDS\", \"Per order\\nH&FDS\", \n                    \"Delivery charge by\\npercentage per order\\nat H&FDS\", \n                    \"Delivery charge by\\ndollars per order\\nat H&FDS\"]\nxticks = [0, 1, 2, 3]\nyticks = [1, 2, 3, 4, 5]\nplt.figure(figsize=(10, 10))\nax = sns.heatmap(response_by_income, vmin=0, vmax=5, annot=True, fmt='g', cmap='BuPu', annot_kws={'fontsize': 14})\n\nbottom, top = ax.get_ylim()\nbottom, top = ax.get_ylim()\nax.set_ylim(bottom + 0.5, top - 0.5)\n\nplt.title(label=\"The Purchasing Behavior of Target Customers of\\n Healthy Food Delivery Services(HFDS) by their Income Level\", fontsize=16)\n\n\nplt.xlabel(\"\")\nplt.ylabel(\"\")\nax.set_xticks(xticks)\nax.set_xticklabels(list_labels, rotation=15)\nax.set_ylim(bottom + 0.5, top - 0.5)\n\nax.set_yticks(yticks)\nax.set_yticklabels(Q6_labels, rotation=15)\nplt.xticks(xticks, list_labels)\nplt.yticks(yticks, Q6_labels)\nplt.savefig(\"A5-[Healthy Food Delivery]-Heat-Python.png\")\nplt.show()\n",
      "metadata": {
        "trusted": true
      },
      "execution_count": null,
      "outputs": []
    },
    {
      "cell_type": "code",
      "source": "\nx=[1,2,3,4,5] # Choose a column to define as the X variable; You can experiment with using different variables from the dataset.\ny1=response_by_income[\"Q16\"] # Choose a column to define as the first Y variable to include in the \"stack\"; You can experiment with using different variables from the dataset.\ny2=response_by_income[\"Q17\"] # Choose a column to define as the second Y variable to include in the \"stack\"; You can experiment with using different variables from the dataset.\ny3=response_by_income[\"Q18\"] # Choose a column to define as the third Y variable to include in the \"stack\"; You can experiment with using different variables from the dataset.\ny4=response_by_income[\"Q19\"]\nxticks = [1, 2, 3, 4, 5]\nQ6_labels = [\"$499 or less\",\"$500 ~to~ $999\",\"$1,000 ~to~ $1,499\",\"$1,500 ~to~ $1,999\",\"$2,000 or more\"] # adding the ~ where i need white space.\nyticks = [0, 1, 2, 3, 4, 5, 6, 7, 8]\nbehavior_labels = [\"I will not go\", \"I will not buy\", \"$1.99 or less\", \"$2 ~to~ $3.99\", \"$4 ~to~ $5.99\", \"$6 ~to~ $7.99\", \"$8 ~to~ $9.99\", \"$10 ~to~ $11.99\", \"$12 or more\"]\n\nplt.figure(figsize=(10, 5)) # Create the figure object. Add an argument for manually adjusting the figure size.\nplt.stackplot(x,y1, y2, y3,y4, labels=[\"Per item H&FDS\", \"Per order H&FDS\", \"Delivery charge by percentage per order at H&FDS\", \"Delivery charge by dollars per order at H&FDS\"]) # Draw the stacked area plot. Put your Y variables in the order in which you want them to be stacked. If you chose different variables for your stacks, don't forget to edit the names here.\nplt.title(label=\"The Purchasing Behavior of Target Customers of\\n Healthy Food Delivery Services(HFDS) by their Income Level\", fontsize=16) # Add a title to your DV. Add an argument to adjust your font size. If you chose different variables, don't forget to edit the title here.\nplt.ylabel(\"Value on Record\", fontsize=14) # Add a y-axis label and adjust the font size.\n\nplt.xlabel(\"Income level\")\nplt.ylabel(\"\")\nax.set_xticks(xticks)\nax.set_xticklabels(Q6_labels, rotation=15)\nax.set_yticks(yticks)\nax.set_yticklabels(behavior_labels)\nplt.xticks(xticks, Q6_labels, fontsize=10)\nplt.yticks(yticks, behavior_labels, fontsize=10)\n\nplt.legend(loc='upper left', fontsize=12) # Add a legend and adjust the font size and legend location.\nplt.savefig(\"A5-[Healthy Food Delivery]-stacked-area-Python.png\")\nplt.show()",
      "metadata": {
        "trusted": true
      },
      "execution_count": null,
      "outputs": []
    },
    {
      "cell_type": "code",
      "source": "",
      "metadata": {},
      "execution_count": null,
      "outputs": []
    }
  ]
}